{
 "cells": [
  {
   "cell_type": "code",
   "execution_count": null,
   "metadata": {},
   "outputs": [],
   "source": [
    "pip install turkishnlp  #YOU NEED TO INSTALL THIS PYTHON PACKAGE"
   ]
  },
  {
   "cell_type": "code",
   "execution_count": 1,
   "metadata": {},
   "outputs": [],
   "source": [
    "import turkishnlp"
   ]
  },
  {
   "cell_type": "code",
   "execution_count": 2,
   "metadata": {},
   "outputs": [],
   "source": [
    "from turkishnlp import detector\n",
    "obj = detector.TurkishNLP()"
   ]
  },
  {
   "cell_type": "code",
   "execution_count": null,
   "metadata": {},
   "outputs": [],
   "source": [
    "obj.download() #DOWNLOAD THIS"
   ]
  },
  {
   "cell_type": "code",
   "execution_count": 3,
   "metadata": {},
   "outputs": [],
   "source": [
    "obj.create_word_set()"
   ]
  },
  {
   "cell_type": "markdown",
   "metadata": {},
   "source": [
    "# Cümlenin Yüzde Kaç Türkçe Olduğunu Tespit Eder :"
   ]
  },
  {
   "cell_type": "code",
   "execution_count": 4,
   "metadata": {},
   "outputs": [
    {
     "name": "stdout",
     "output_type": "stream",
     "text": [
      "0.8888888888888888\n",
      "True\n"
     ]
    }
   ],
   "source": [
    "print(obj.is_turkish(\"Ben bugün Ankara'ya gideceğim belki bir şeyler alırım\"))"
   ]
  },
  {
   "cell_type": "markdown",
   "metadata": {},
   "source": [
    "# Türkçe Normalizasyon Yapar (Cümlenin Türkçeye göre Doğru Halini Yazar):"
   ]
  },
  {
   "cell_type": "code",
   "execution_count": 5,
   "metadata": {},
   "outputs": [
    {
     "name": "stdout",
     "output_type": "stream",
     "text": [
      "['veri', 'kümesi', 'idare', 'eder', 'ancak', 'daha', 'güzel', 'olabilir']\n"
     ]
    }
   ],
   "source": [
    "lwords = obj.list_words(\"vri kümsi idrae edre ancaka daha güezl oalbilir\")\n",
    "print(obj.auto_correct(lwords))"
   ]
  },
  {
   "cell_type": "code",
   "execution_count": 6,
   "metadata": {},
   "outputs": [],
   "source": [
    "lwords = obj.list_words(\"vri kümsi idrae edre ancaka daha güezl oalbilir\")\n",
    "corrected_words = obj.auto_correct(lwords)\n",
    "corrected_string = \" \".join(corrected_words)"
   ]
  },
  {
   "cell_type": "code",
   "execution_count": 7,
   "metadata": {},
   "outputs": [
    {
     "data": {
      "text/plain": [
       "'veri kümesi idare eder ancak daha güzel olabilir'"
      ]
     },
     "execution_count": 7,
     "metadata": {},
     "output_type": "execute_result"
    }
   ],
   "source": [
    "corrected_string"
   ]
  },
  {
   "cell_type": "markdown",
   "metadata": {},
   "source": [
    "# Hecelerine Ayırır :"
   ]
  },
  {
   "cell_type": "code",
   "execution_count": 8,
   "metadata": {},
   "outputs": [
    {
     "data": {
      "text/plain": [
       "[['hiç'],\n",
       " ['u', 'nut', 'ma', 'dım,'],\n",
       " ['do', 'ğu', 'dan'],\n",
       " ['e', 'sen'],\n",
       " ['ha', 'fif'],\n",
       " ['bir'],\n",
       " ['yel'],\n",
       " ['saç', 'la', 'rı', 'nı'],\n",
       " ['dal', 'ga', 'lan', 'dı', 'rı', 'yor', 'du']]"
      ]
     },
     "execution_count": 8,
     "metadata": {},
     "output_type": "execute_result"
    }
   ],
   "source": [
    "obj.syllabicate_sentence(\"Hiç unutmadım, doğudan esen hafif bir yel saçlarını dalgalandırıyordu\")"
   ]
  },
  {
   "cell_type": "markdown",
   "metadata": {},
   "source": [
    "# Büyük Ünlü Uyumuna Uygunluk :"
   ]
  },
  {
   "cell_type": "code",
   "execution_count": 9,
   "metadata": {},
   "outputs": [
    {
     "data": {
      "text/plain": [
       "True"
      ]
     },
     "execution_count": 9,
     "metadata": {},
     "output_type": "execute_result"
    }
   ],
   "source": [
    "obj.is_vowel_harmonic(\"Belki\")"
   ]
  },
  {
   "cell_type": "markdown",
   "metadata": {},
   "source": [
    "# Türkçe Kökenli Olup Olmadığını Öğrenmek İçin :"
   ]
  },
  {
   "cell_type": "code",
   "execution_count": 10,
   "metadata": {},
   "outputs": [
    {
     "data": {
      "text/plain": [
       "False"
      ]
     },
     "execution_count": 10,
     "metadata": {},
     "output_type": "execute_result"
    }
   ],
   "source": [
    "obj.is_turkish_origin(\"program\")"
   ]
  },
  {
   "cell_type": "code",
   "execution_count": 11,
   "metadata": {},
   "outputs": [
    {
     "data": {
      "text/plain": [
       "True"
      ]
     },
     "execution_count": 11,
     "metadata": {},
     "output_type": "execute_result"
    }
   ],
   "source": [
    "obj.is_turkish_origin(\"yazılım\")"
   ]
  },
  {
   "cell_type": "markdown",
   "metadata": {},
   "source": [
    "# Aralarında Boşluk Bırakılmamış Kelimeleri Ayırır :"
   ]
  },
  {
   "cell_type": "code",
   "execution_count": 12,
   "metadata": {},
   "outputs": [
    {
     "data": {
      "text/plain": [
       "'türkçe doğal dil işleme'"
      ]
     },
     "execution_count": 12,
     "metadata": {},
     "output_type": "execute_result"
    }
   ],
   "source": [
    "obj.correct_text_without_space('türkçedoğaldilişleme')"
   ]
  },
  {
   "cell_type": "code",
   "execution_count": 13,
   "metadata": {},
   "outputs": [
    {
     "data": {
      "text/plain": [
       "'mehmet emin elmacı eren dil ece v izci'"
      ]
     },
     "execution_count": 13,
     "metadata": {},
     "output_type": "execute_result"
    }
   ],
   "source": [
    "obj.correct_text_without_space('mehmeteminelmacıerendilecevizci') # mehmet emin elmacı eren dile cevizci"
   ]
  },
  {
   "cell_type": "code",
   "execution_count": 14,
   "metadata": {},
   "outputs": [
    {
     "data": {
      "text/plain": [
       "'mehmet emin elmacı eren dil ece v izci'"
      ]
     },
     "execution_count": 14,
     "metadata": {},
     "output_type": "execute_result"
    }
   ],
   "source": [
    "obj.correct_text_without_space('mehmeteminelmacıerendilecevizci')"
   ]
  },
  {
   "cell_type": "code",
   "execution_count": 15,
   "metadata": {},
   "outputs": [],
   "source": [
    "lwords = obj.list_words(\"kldn\")\n",
    "corrected_words = obj.auto_correct(lwords)\n",
    "corrected_string = \" \".join(corrected_words)"
   ]
  },
  {
   "cell_type": "code",
   "execution_count": 16,
   "metadata": {},
   "outputs": [
    {
     "data": {
      "text/plain": [
       "'klon'"
      ]
     },
     "execution_count": 16,
     "metadata": {},
     "output_type": "execute_result"
    }
   ],
   "source": [
    "corrected_string"
   ]
  },
  {
   "cell_type": "code",
   "execution_count": 17,
   "metadata": {},
   "outputs": [
    {
     "data": {
      "text/plain": [
       "'k l d n'"
      ]
     },
     "execution_count": 17,
     "metadata": {},
     "output_type": "execute_result"
    }
   ],
   "source": [
    "obj.correct_text_without_space('kldn')"
   ]
  },
  {
   "cell_type": "markdown",
   "metadata": {},
   "source": [
    "# Kelimelerin Kökünü Alır (Sondaki Ekleri Silerek)\n",
    "# Hani Türkçe Sondan Eklemeli Ya ;)\n",
    "\n",
    "### İngilizce de Stemming ve Lemmatizing diye 2 kök alma yöntemi var. \n",
    "### Stemming --> Sondaki ekleri silerek,\n",
    "### Lemmatizing --> Direk kelimenin kök halini alarak\n",
    "### Türkçe sondan eklemeli bir dil olduğu için STEMMİNG tek başına yeterli oluyor."
   ]
  },
  {
   "cell_type": "code",
   "execution_count": 18,
   "metadata": {},
   "outputs": [
    {
     "name": "stdout",
     "output_type": "stream",
     "text": [
      "kalem\n",
      "kalemlik\n",
      "yapacak\n",
      "bardak\n",
      "git\n",
      "kaybol\n",
      "açıklama\n",
      "konu\n"
     ]
    }
   ],
   "source": [
    "from snowballstemmer import TurkishStemmer\n",
    "ts = TurkishStemmer()\n",
    "kelimeler = ['kalemler', 'kalemlik', 'yapacağım', 'bardaklarımız',\"gittik\",\"kayboldu\",\"açıklamaya\",\"konusundan\" ]\n",
    "for k in kelimeler:\n",
    "    print(ts.stemWord(k))"
   ]
  }
 ],
 "metadata": {
  "kernelspec": {
   "display_name": "Python 3",
   "language": "python",
   "name": "python3"
  },
  "language_info": {
   "codemirror_mode": {
    "name": "ipython",
    "version": 3
   },
   "file_extension": ".py",
   "mimetype": "text/x-python",
   "name": "python",
   "nbconvert_exporter": "python",
   "pygments_lexer": "ipython3",
   "version": "3.8.5"
  }
 },
 "nbformat": 4,
 "nbformat_minor": 4
}
